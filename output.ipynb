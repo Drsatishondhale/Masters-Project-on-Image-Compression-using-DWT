{
 "cells": [
  {
   "cell_type": "code",
   "execution_count": 1,
   "id": "270d465f",
   "metadata": {},
   "outputs": [],
   "source": [
    "from tkinter import *\n",
    "from PIL import Image\n",
    "import ntpath\n",
    "import os\n",
    "import math\n",
    "import app as appy"
   ]
  },
  {
   "cell_type": "code",
   "execution_count": 2,
   "id": "a6e3f65d",
   "metadata": {},
   "outputs": [],
   "source": [
    "def hspace(col,root):\n",
    "    '''\n",
    "    Adding horizontal space\n",
    "    '''\n",
    "    space = Label(root,text = \"    \",bg = '#3ed8ea')\n",
    "    space.grid(row=2,column=col)\n",
    "\n",
    "def vspace(row,root):\n",
    "    '''\n",
    "    Adding Vertical Space\n",
    "    '''\n",
    "    space = Label(root,text = \"  \",bg = '#3ed8ea')\n",
    "    space.grid(row=row)\n",
    "\n",
    "def leftClick(event,x):\n",
    "    '''\n",
    "    Left Click event to open image\n",
    "    '''\n",
    "    im = Image.open(x)\n",
    "    im.show()"
   ]
  },
  {
   "cell_type": "code",
   "execution_count": 3,
   "id": "510ef500",
   "metadata": {},
   "outputs": [],
   "source": [
    "def run(fileList):\n",
    "    '''\n",
    "    Creates the window \n",
    "    '''\n",
    "    root = Tk()\n",
    "    root.title(\"Image Compression\")\n",
    "    root.geometry('1070x400')\n",
    "    root.configure(background='#3ed8ea')\n",
    "    root.resizable(True,False)\n",
    "    appy.center(root)\n",
    "    vspace(0,root)\n",
    "    \n",
    "    image_name = Label(root,text=\"Image Name\",borderwidth=2, relief=\"solid\",bg = '#3ed8ea',fg='#1c1c6c',height=2,width=25,font='Verdana 12')\n",
    "    image_name.grid(row=2,column = 0)\n",
    "    vspace(3,root) \n",
    "    hspace(1,root)\n",
    "    oi = Label(root,text=\"Original Image Size\",borderwidth=2, relief=\"solid\",bg = '#3ed8ea',fg='#1c1c6c',height=2,width=25,font='Verdana 12')\n",
    "    oi.grid(row=2,column=2)\n",
    "    hspace(3,root)\n",
    "    ci = Label(root,text=\"Compressed Image Size\",borderwidth=2, relief=\"solid\",bg = '#3ed8ea',fg='#1c1c6c',height=2,width=25,font='Verdana 12')\n",
    "    ci.grid(row=2,column=4)\n",
    "    hspace(5,root)\n",
    "    cr = Label(root,text=\"Compression Ratio\",borderwidth=2, relief=\"solid\",bg = '#3ed8ea',fg='#1c1c6c',height=2,width=25,font='Verdana 12')\n",
    "    cr.grid(row=2,column=6)\n",
    "\n",
    "    rows = 4\n",
    "    '''\n",
    "    Adding the files in the list along with the size of original image and compressed image and also compression ratio\n",
    "    '''\n",
    "    for i in range(len(fileList)):\n",
    "        name = ntpath.basename(fileList[i])\n",
    "        compressed_file_name =  \"Compressed_Images/\"+name[:len(name)-4]+\"_compressed\"+name[len(name)-4:]\n",
    "        create_table(root,name,fileList[i],compressed_file_name,rows)\n",
    "        rows = rows+1\n",
    "    mainloop()"
   ]
  },
  {
   "cell_type": "code",
   "execution_count": 4,
   "id": "1b7086a8",
   "metadata": {},
   "outputs": [],
   "source": [
    "def extract_ratio(str1,str2):\n",
    "    '''\n",
    "    Finds the compression ratio\n",
    "    '''\n",
    "    s1 = int(str1[:len(str1)-3])\n",
    "    s2 = int(str2[:len(str2)-3])\n",
    "    return \"%.2f\"%(s1/s2)"
   ]
  },
  {
   "cell_type": "code",
   "execution_count": 5,
   "id": "04da8a2a",
   "metadata": {},
   "outputs": [],
   "source": [
    "def create_table(root,name,file,file2,row):\n",
    "    '''\n",
    "    This is used for adding multiple images in the list. \n",
    "    On clicking the original image, it opens the original image\n",
    "    On clicking the compressed image, it opens the compressed image\n",
    "    '''\n",
    "    image = Label(root,text=name,bg = '#3ed8ea',fg='#1c1c6c',font='Verdana 12')\n",
    "    image.grid(row=row,column = 0)\n",
    "    image1 = Label(root,text = meta_data(file),bg = '#3ed8ea',fg='#1c1c6c',font='Verdana 12')\n",
    "    image1.grid(row=row,column = 2)\n",
    "    image1.bind(\"<Button-1>\",lambda event:leftClick(event,file))\n",
    "    image1 = Label(root,text = meta_data(file2),bg = '#3ed8ea',fg='#1c1c6c',font='Verdana 12')\n",
    "    image1.grid(row=row,column = 4)\n",
    "    image1.bind(\"<Button-1>\",lambda event:leftClick(event,file2))\n",
    "    image1 = Label(root,text = extract_ratio(meta_data(file),meta_data(file2)),bg = '#3ed8ea',fg='#1c1c6c',font='Verdana 12')\n",
    "    image1.grid(row=row,column = 6)"
   ]
  },
  {
   "cell_type": "code",
   "execution_count": 6,
   "id": "af540ed3",
   "metadata": {},
   "outputs": [],
   "source": [
    "def meta_data(filen):\n",
    "    '''\n",
    "    Gives the file size of the selected file in Kb\n",
    "    '''\n",
    "    return str(math.ceil(int(os.path.getsize(filen))/1024)) + \" Kb\"\n"
   ]
  },
  {
   "cell_type": "code",
   "execution_count": null,
   "id": "d2372071",
   "metadata": {},
   "outputs": [],
   "source": []
  }
 ],
 "metadata": {
  "kernelspec": {
   "display_name": "Python 3 (ipykernel)",
   "language": "python",
   "name": "python3"
  },
  "language_info": {
   "codemirror_mode": {
    "name": "ipython",
    "version": 3
   },
   "file_extension": ".py",
   "mimetype": "text/x-python",
   "name": "python",
   "nbconvert_exporter": "python",
   "pygments_lexer": "ipython3",
   "version": "3.9.12"
  }
 },
 "nbformat": 4,
 "nbformat_minor": 5
}
