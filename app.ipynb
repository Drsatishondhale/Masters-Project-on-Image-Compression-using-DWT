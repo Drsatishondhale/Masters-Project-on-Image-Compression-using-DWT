{
 "cells": [
  {
   "cell_type": "code",
   "execution_count": 1,
   "id": "32f5f724",
   "metadata": {},
   "outputs": [],
   "source": [
    "import os\n",
    "import get_coeff as comp\n",
    "import utils as util\n",
    "import numpy as np\n",
    "from PIL import Image, ImageEnhance,ImageTk\n",
    "import pywt\n",
    "import tkinter as tk\n",
    "import tkinter.filedialog as tf\n",
    "import math\n",
    "import output as getit"
   ]
  },
  {
   "cell_type": "code",
   "execution_count": 4,
   "id": "25f6df86",
   "metadata": {},
   "outputs": [],
   "source": [
    "def running(file, file_comp, file_ext):\n",
    "    img = util.load_img(file)                       # Loads the image selected\n",
    "    coef = comp.extract_rgb_coeff(img)              # Extracts the RBG Coefficients from the image \n",
    "    image = comp.img_from_dwt_coeff(coef)           # Forms the new image using the dwt coeeficients\n",
    "    comp_file = \"compress\"+file_ext\n",
    "    image.save(comp_file)                           # Saves the image\n",
    "\n",
    "    '''\n",
    "    Below lines of the code are to resize and enhance the images\n",
    "    '''\n",
    "    enhancer = ImageEnhance.Brightness(image)\n",
    "    image = enhancer.enhance(2)\n",
    "   \n",
    "    file_enh = \"enhanced\"+file_ext\n",
    "    image.save(file_enh)\n",
    "    im = Image.open(file_enh)\n",
    "    size = get_image_dimensions(file)\n",
    "    im_resized = im.resize(size, Image.\n",
    "                           ANTIALIAS)\n",
    "    im_resized.save(file_comp)\n",
    "    \n",
    "    os.remove(comp_file)\n",
    "    os.remove(file_enh)\n",
    "    return os.path.getsize(file)/os.path.getsize(file_comp)"
   ]
  },
  {
   "cell_type": "code",
   "execution_count": 5,
   "id": "ecaaa39c",
   "metadata": {},
   "outputs": [],
   "source": [
    "def get_image_dimensions(imagefile):             # Function to get the dimensions of the image\n",
    "    with Image.open(imagefile) as img:\n",
    "        width, height = img.size\n",
    "    return int(width), int(height)              # returns the width and height of the image in terms of pixels"
   ]
  },
  {
   "cell_type": "code",
   "execution_count": 6,
   "id": "430744ef",
   "metadata": {},
   "outputs": [],
   "source": [
    "def create_folder():\n",
    "    path = \"Compressed_Images\"                  # Creates the folder and in order to save the image in this folder\n",
    "    os.rmdir(path)\n",
    "    os.mkdir(path)"
   ]
  },
  {
   "cell_type": "code",
   "execution_count": 10,
   "id": "e9864305",
   "metadata": {},
   "outputs": [],
   "source": [
    "def run():  \n",
    "    '''\n",
    "    Main Function to run the compression\n",
    "    '''\n",
    "    root = tk.Tk()                          # Window for choosing the images\n",
    "    load = Image.open(\"satish1.jpg\")\n",
    "    render = ImageTk.PhotoImage(load)\n",
    "\n",
    "    img = tk.Label(image=render)\n",
    "    img.pack(side = \"bottom\", fill = \"both\", expand = \"yes\")\n",
    "    root.geometry(\"700x700\")\n",
    "    center(root)\n",
    "   \n",
    "    file = tf.askopenfilenames(title=\"Choose Images\", filetypes=(\n",
    "        (\"jpeg files\", \"*.jpg\"), (\"png files\", \"*.png\")))               # Select two type of iamges : jpg and png\n",
    "    files = list(file)\n",
    "    # create_folder()\n",
    "    ans = 0\n",
    "    mini = math.inf\n",
    "    maxi = -math.inf\n",
    "    \n",
    "    for i in range(len(file)):\n",
    "        x = list(file[i])\n",
    "        ind = 0\n",
    "        for j in range(len(x)):\n",
    "            if x[j] == '/':\n",
    "                ind = j\n",
    "        ext = str(file[i][len(x)-4:len(x)])\n",
    "        file2 = \"Compressed_Images/\"+file[i][ind+1:len(x)-4]+\"_compressed\"+ext    # create the path inorder to save the  compressed image in the created folder\n",
    "        ans1 = running(file[i], file2, ext)                                       # The function to compress the image which returns the compression ratio\n",
    "    \n",
    "        '''\n",
    "        Finds the maximum compression and minimum compression ratio when multiple images are selected\n",
    "        '''\n",
    "        mini = min(mini, ans1)\n",
    "        maxi = max(maxi, ans1)                                                        \n",
    "        ans += ans1\n",
    "    \n",
    "    print(\"\\nCompression Ratio : %.2f\" % (ans/len(file)))\n",
    "    print(\"\\nMax : \"+str(maxi) + \"\\nMin : \" + str(mini))\n",
    "    root.destroy()\n",
    "    getit.run(files)"
   ]
  },
  {
   "cell_type": "code",
   "execution_count": 11,
   "id": "78814c61",
   "metadata": {},
   "outputs": [],
   "source": [
    "def center(win):\n",
    "    \"\"\"\n",
    "    centers a tkinter window\n",
    "    :param win: the root or Toplevel window to center\n",
    "    \"\"\"\n",
    "    win.update_idletasks()\n",
    "    width = win.winfo_width()\n",
    "    frm_width = win.winfo_rootx() - win.winfo_x()\n",
    "    win_width = width + 2 * frm_width\n",
    "    height = win.winfo_height()\n",
    "    titlebar_height = win.winfo_rooty() - win.winfo_y()\n",
    "    win_height = height + titlebar_height + frm_width\n",
    "    x = win.winfo_screenwidth() // 2 - win_width // 2\n",
    "    y = win.winfo_screenheight() // 2 - win_height // 2\n",
    "    win.geometry('{}x{}+{}+{}'.format(width, height, x, y))\n",
    "    win.deiconify()"
   ]
  },
  {
   "cell_type": "code",
   "execution_count": null,
   "id": "2ca257e0",
   "metadata": {},
   "outputs": [
    {
     "name": "stdout",
     "output_type": "stream",
     "text": [
      "\n",
      "Compression Ratio : 9.17\n",
      "\n",
      "Max : 9.168519846963175\n",
      "Min : 9.168519846963175\n"
     ]
    }
   ],
   "source": [
    "if __name__ == \"__main__\":\n",
    "    run()"
   ]
  },
  {
   "cell_type": "code",
   "execution_count": null,
   "id": "2b0c58a9",
   "metadata": {},
   "outputs": [],
   "source": []
  }
 ],
 "metadata": {
  "kernelspec": {
   "display_name": "Python 3 (ipykernel)",
   "language": "python",
   "name": "python3"
  },
  "language_info": {
   "codemirror_mode": {
    "name": "ipython",
    "version": 3
   },
   "file_extension": ".py",
   "mimetype": "text/x-python",
   "name": "python",
   "nbconvert_exporter": "python",
   "pygments_lexer": "ipython3",
   "version": "3.9.12"
  }
 },
 "nbformat": 4,
 "nbformat_minor": 5
}
